{
 "cells": [
  {
   "cell_type": "markdown",
   "metadata": {},
   "source": [
    "# Cálculo - Tarefa 01\n",
    "\n",
    "1. Marque quais desses métodos/algoritmos muito populares em ciência de dados são baseados no uso de derivada:\n",
    "\n",
    "    1. Método Mínimos Quadrados\n",
    "    2. Gradiente descendente\n",
    "    3. Newton Raphson\n",
    "    4. CART (Árvore de decisão)"
   ]
  },
  {
   "cell_type": "markdown",
   "metadata": {},
   "source": [
    "\n",
    "Dentre os métodos e algoritmos mencionados, o Gradiente Descendente e o Newton-Raphson operam com base no emprego de derivadas. O Gradiente Descendente é um algoritmo de otimização que utiliza o cálculo do gradiente, envolvendo derivadas parciais, para localizar o mínimo de uma função. Ele é extensivamente aplicado em problemas de aprendizado de máquina e otimização. Já o Newton-Raphson utiliza derivadas para se aproximar das raízes de uma função, sendo comumente empregado em desafios relacionados à otimização e estimativas de parâmetros.\n",
    "\n",
    "Por outro lado, o Método dos Mínimos Quadrados não se baseia no uso de derivadas. Trata-se de uma técnica de ajuste de modelos de regressão que visa identificar os parâmetros capazes de minimizar a soma dos quadrados dos resíduos. Essa abordagem dispensa a necessidade de calcular derivadas.\n",
    "\n",
    "No contexto da CART (Árvore de Decisão), a metodologia difere ao não depender do uso de derivadas. Em vez disso, ela se fundamenta em critérios que avaliam a pureza das classes ou a redução do erro durante a construção da árvore de decisão"
   ]
  },
  {
   "cell_type": "markdown",
   "metadata": {},
   "source": [
    "2. Dada uma base de dados com uma variável resposta $y$ e um conjunto de variáveis explicativas. Considere uma estrutura de um modelo de regressão. Explique com suas palavras por que não é possível obter parâmetros que forneçam um erro quadrático médio (EQM) menor que o obtido com estimadores de mínimos quadrados."
   ]
  },
  {
   "cell_type": "markdown",
   "metadata": {},
   "source": [
    "Ao empregar um modelo de regressão para prever a variável resposta com base nas variáveis explicativas e utilizando estimadores de mínimos quadrados, busca-se minimizar o erro quadrático médio (EQM), proporcionando assim uma precisão máxima. Nesse contexto, é afirmado que sem o uso desses estimadores, não seria viável obter parâmetros que resultassem em um EQM menor. Isso se deve ao risco de, ao tentar forçar o ajuste dos parâmetros, o modelo se ajustar excessivamente aos dados, ocasionando um sobreajuste (overfitting). Esse fenômeno, por sua vez, conduziria a previsões menos precisas para valores ausentes na amostra de dados utilizada para estimar o modelo."
   ]
  }
 ],
 "metadata": {
  "kernelspec": {
   "display_name": "Python 3",
   "language": "python",
   "name": "python3"
  },
  "language_info": {
   "codemirror_mode": {
    "name": "ipython",
    "version": 3
   },
   "file_extension": ".py",
   "mimetype": "text/x-python",
   "name": "python",
   "nbconvert_exporter": "python",
   "pygments_lexer": "ipython3",
   "version": "3.8.5"
  },
  "toc": {
   "base_numbering": 1,
   "nav_menu": {},
   "number_sections": true,
   "sideBar": true,
   "skip_h1_title": true,
   "title_cell": "Índice",
   "title_sidebar": "Conteúdo",
   "toc_cell": false,
   "toc_position": {},
   "toc_section_display": true,
   "toc_window_display": false
  },
  "varInspector": {
   "cols": {
    "lenName": 16,
    "lenType": 16,
    "lenVar": 40
   },
   "kernels_config": {
    "python": {
     "delete_cmd_postfix": "",
     "delete_cmd_prefix": "del ",
     "library": "var_list.py",
     "varRefreshCmd": "print(var_dic_list())"
    },
    "r": {
     "delete_cmd_postfix": ") ",
     "delete_cmd_prefix": "rm(",
     "library": "var_list.r",
     "varRefreshCmd": "cat(var_dic_list()) "
    }
   },
   "types_to_exclude": [
    "module",
    "function",
    "builtin_function_or_method",
    "instance",
    "_Feature"
   ],
   "window_display": false
  }
 },
 "nbformat": 4,
 "nbformat_minor": 4
}
