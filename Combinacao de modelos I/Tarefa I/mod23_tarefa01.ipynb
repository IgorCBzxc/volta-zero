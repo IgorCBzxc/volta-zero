{
 "cells": [
  {
   "cell_type": "markdown",
   "id": "3b0fe4cb-3768-44be-84ea-239f16fc559d",
   "metadata": {},
   "source": [
    "# Tarefa 01"
   ]
  },
  {
   "cell_type": "markdown",
   "id": "33d3cd45-579c-46a9-9068-6676bec68d80",
   "metadata": {},
   "source": [
    "**1.** Monte um passo a passo para o Bagging"
   ]
  },
  {
   "cell_type": "markdown",
   "id": "e2c8cdd3-70b6-41b7-80cf-68200b1b94f8",
   "metadata": {},
   "source": [
    "\n",
    "O Bagging (Bootstrap Aggregating) envolve os seguintes passos:\n",
    "\n",
    "*Bootstrap*: Criação de amostras aleatórias de treinamento com reposição a partir do conjunto de dados original. Cada amostra bootstrap tem o mesmo tamanho do conjunto original, permitindo a seleção repetida de cada exemplo.\n",
    "\n",
    "*Modelagem*: Para cada amostra bootstrap, um modelo de Machine Learning é treinado de forma independente. Isso resulta na criação de vários modelos, denominados base learners, cada um treinado em uma amostra bootstrap diferente.\n",
    "\n",
    "*Agregação*: Os resultados dos modelos individuais são agregados para formar uma única previsão final. Em problemas de classificação, a agregação geralmente é realizada por votação majoritária, onde a classe mais comum é escolhida como a previsão final. Para problemas de regressão, a agregação é feita calculando a média dos resultados dos modelos."
   ]
  },
  {
   "cell_type": "markdown",
   "id": "35d4b04e-6806-46f3-a218-aa9a207a132a",
   "metadata": {},
   "source": [
    "**2.** Explique com suas palavras o Bagging"
   ]
  },
  {
   "cell_type": "markdown",
   "id": "b0641853-c60e-411b-9098-cc9e78f84c66",
   "metadata": {},
   "source": [
    "O Bagging, também conhecido como Bootstrap Aggregating, é um método de combinação de modelos empregado em Machine Learning. Este método consiste na geração de várias amostras de treinamento, obtidas aleatoriamente com reposição a partir do conjunto de dados original, em um processo denominado Bootstrap. Cada amostra é então utilizada para treinar um modelo independente, denominado base learner.\n",
    "\n",
    "Durante a fase de teste, os modelos são aplicados aos dados de teste e suas previsões são combinadas através de uma estratégia de agregação. Em problemas de classificação, a combinação geralmente ocorre por meio de votação majoritária, onde a classe mais frequente entre os modelos é escolhida como a classe final. Para problemas de regressão, a combinação é realizada calculando a média das previsões dos modelos."
   ]
  },
  {
   "cell_type": "markdown",
   "id": "d16bf291-52e9-40d6-9235-71ec458f9afa",
   "metadata": {},
   "source": [
    "---"
   ]
  }
 ],
 "metadata": {
  "kernelspec": {
   "display_name": "Python 3 (ipykernel)",
   "language": "python",
   "name": "python3"
  },
  "language_info": {
   "codemirror_mode": {
    "name": "ipython",
    "version": 3
   },
   "file_extension": ".py",
   "mimetype": "text/x-python",
   "name": "python",
   "nbconvert_exporter": "python",
   "pygments_lexer": "ipython3",
   "version": "3.9.13"
  }
 },
 "nbformat": 4,
 "nbformat_minor": 5
}
