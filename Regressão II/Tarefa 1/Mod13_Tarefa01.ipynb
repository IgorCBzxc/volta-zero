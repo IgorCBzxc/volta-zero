{
  "cells": [
    {
      "cell_type": "markdown",
      "metadata": {
        "id": "PLO7U8WUy7hL"
      },
      "source": [
        "# EBAC - Regressão II - regressão múltipla\n",
        "\n",
        "## Tarefa I"
      ]
    },
    {
      "cell_type": "markdown",
      "metadata": {
        "id": "60Cck6RIy7hM"
      },
      "source": [
        "#### Previsão de renda\n",
        "\n",
        "Vamos trabalhar com a base 'previsao_de_renda.csv', que é a base do seu próximo projeto. Vamos usar os recursos que vimos até aqui nesta base.\n",
        "\n",
        "|variavel|descrição|\n",
        "|-|-|\n",
        "|data_ref                | Data de referência de coleta das variáveis |\n",
        "|index                   | Código de identificação do cliente|\n",
        "|sexo                    | Sexo do cliente|\n",
        "|posse_de_veiculo        | Indica se o cliente possui veículo|\n",
        "|posse_de_imovel         | Indica se o cliente possui imóvel|\n",
        "|qtd_filhos              | Quantidade de filhos do cliente|\n",
        "|tipo_renda              | Tipo de renda do cliente|\n",
        "|educacao                | Grau de instrução do cliente|\n",
        "|estado_civil            | Estado civil do cliente|\n",
        "|tipo_residencia         | Tipo de residência do cliente (própria, alugada etc)|\n",
        "|idade                   | Idade do cliente|\n",
        "|tempo_emprego           | Tempo no emprego atual|\n",
        "|qt_pessoas_residencia   | Quantidade de pessoas que moram na residência|\n",
        "|renda                   | Renda em reais|"
      ]
    },
    {
      "cell_type": "code",
      "execution_count": 4,
      "metadata": {
        "id": "ISDI31x_y7hN"
      },
      "outputs": [],
      "source": [
        "# import math\n",
        "\n",
        "import pandas as pd\n",
        "import numpy as np\n",
        "\n",
        "import seaborn as sns\n",
        "import matplotlib.pyplot as plt\n",
        "\n",
        "# from sklearn.model_selection import train_test_split\n",
        "# from sklearn import metrics\n",
        "# from sklearn.ensemble import RandomForestClassifier\n",
        "\n",
        "# from scipy.stats import ks_2samp\n",
        "import statsmodels.formula.api as smf\n",
        "import statsmodels.api as sm\n",
        "import patsy\n",
        "\n",
        "%matplotlib inline"
      ]
    },
    {
      "cell_type": "code",
      "execution_count": 2,
      "metadata": {
        "id": "4-6aQKsNy7hO"
      },
      "outputs": [],
      "source": [
        "df = pd.read_csv('previsao_de_renda.csv')"
      ]
    },
    {
      "cell_type": "code",
      "execution_count": 3,
      "metadata": {
        "colab": {
          "base_uri": "https://localhost:8080/"
        },
        "id": "0Voq0YSly7hO",
        "outputId": "5c722649-fdde-4867-c1b4-b9271b463bdd"
      },
      "outputs": [
        {
          "output_type": "stream",
          "name": "stdout",
          "text": [
            "<class 'pandas.core.frame.DataFrame'>\n",
            "RangeIndex: 15000 entries, 0 to 14999\n",
            "Data columns (total 15 columns):\n",
            " #   Column                 Non-Null Count  Dtype  \n",
            "---  ------                 --------------  -----  \n",
            " 0   Unnamed: 0             15000 non-null  int64  \n",
            " 1   data_ref               15000 non-null  object \n",
            " 2   id_cliente             15000 non-null  int64  \n",
            " 3   sexo                   15000 non-null  object \n",
            " 4   posse_de_veiculo       15000 non-null  bool   \n",
            " 5   posse_de_imovel        15000 non-null  bool   \n",
            " 6   qtd_filhos             15000 non-null  int64  \n",
            " 7   tipo_renda             15000 non-null  object \n",
            " 8   educacao               15000 non-null  object \n",
            " 9   estado_civil           15000 non-null  object \n",
            " 10  tipo_residencia        15000 non-null  object \n",
            " 11  idade                  15000 non-null  int64  \n",
            " 12  tempo_emprego          12427 non-null  float64\n",
            " 13  qt_pessoas_residencia  15000 non-null  float64\n",
            " 14  renda                  15000 non-null  float64\n",
            "dtypes: bool(2), float64(3), int64(4), object(6)\n",
            "memory usage: 1.5+ MB\n"
          ]
        }
      ],
      "source": [
        "df.info()"
      ]
    },
    {
      "cell_type": "markdown",
      "metadata": {
        "id": "Dxhh_Gbwy7hP"
      },
      "source": [
        "1. Ajuste um modelo para prever log(renda) considerando todas as covariáveis disponíveis.\n",
        "    - Utilizando os recursos do Patsy, coloque as variáveis qualitativas como *dummies*.\n",
        "    - Mantenha sempre a categoria mais frequente como casela de referência\n",
        "    - Avalie os parâmetros e veja se parecem fazer sentido prático.  \n",
        "\n",
        "\n",
        "2. Remova a variável menos significante e analise:\n",
        "    - Observe os indicadores que vimos, e avalie se o modelo melhorou ou piorou na sua opinião.\n",
        "    - Observe os parâmetros e veja se algum se alterou muito.  \n",
        "\n",
        "\n",
        "3. Siga removendo as variáveis menos significantes, sempre que o *p-value* for menor que 5%. Compare o modelo final com o inicial. Observe os indicadores e conclua se o modelo parece melhor.\n",
        "    "
      ]
    },
    {
      "cell_type": "code",
      "source": [
        "#1 Ajustando o modelo log(renda)\n",
        "\n",
        "#1.1 Utilizando o Patsy\n",
        "formula = 'np.log(renda) ~ posse_de_veiculo + posse_de_imovel + qtd_filhos + C(sexo) + C(tipo_renda) + C(educacao) + C(estado_civil) + C(tipo_residencia) + idade + tempo_emprego + qt_pessoas_residencia + 1'\n",
        "\n",
        "y, X = patsy.dmatrices(formula, data=df, return_type='dataframe')\n",
        "\n",
        "model = sm.OLS(y, X)\n",
        "results = model.fit()\n",
        "\n",
        "print(results.summary())\n"
      ],
      "metadata": {
        "colab": {
          "base_uri": "https://localhost:8080/"
        },
        "id": "l-i3qoyazQup",
        "outputId": "736a5cad-afcf-4b4f-ac9c-85a695ad5b58"
      },
      "execution_count": 23,
      "outputs": [
        {
          "output_type": "stream",
          "name": "stdout",
          "text": [
            "                            OLS Regression Results                            \n",
            "==============================================================================\n",
            "Dep. Variable:          np.log(renda)   R-squared:                       0.357\n",
            "Model:                            OLS   Adj. R-squared:                  0.356\n",
            "Method:                 Least Squares   F-statistic:                     287.5\n",
            "Date:                Fri, 15 Dec 2023   Prob (F-statistic):               0.00\n",
            "Time:                        23:50:18   Log-Likelihood:                -13568.\n",
            "No. Observations:               12427   AIC:                         2.719e+04\n",
            "Df Residuals:                   12402   BIC:                         2.737e+04\n",
            "Df Model:                          24                                         \n",
            "Covariance Type:            nonrobust                                         \n",
            "=======================================================================================================\n",
            "                                          coef    std err          t      P>|t|      [0.025      0.975]\n",
            "-------------------------------------------------------------------------------------------------------\n",
            "Intercept                               6.5847      0.235     28.006      0.000       6.124       7.046\n",
            "posse_de_veiculo[T.True]                0.0441      0.014      3.119      0.002       0.016       0.072\n",
            "posse_de_imovel[T.True]                 0.0829      0.014      5.926      0.000       0.055       0.110\n",
            "C(sexo)[T.M]                            0.7874      0.015     53.723      0.000       0.759       0.816\n",
            "C(tipo_renda)[T.Bolsista]               0.2209      0.241      0.916      0.360      -0.252       0.694\n",
            "C(tipo_renda)[T.Empresário]             0.1551      0.015     10.387      0.000       0.126       0.184\n",
            "C(tipo_renda)[T.Pensionista]           -0.3087      0.241     -1.280      0.201      -0.782       0.164\n",
            "C(tipo_renda)[T.Servidor público]       0.0576      0.022      2.591      0.010       0.014       0.101\n",
            "C(educacao)[T.Pós graduação]            0.1071      0.159      0.673      0.501      -0.205       0.419\n",
            "C(educacao)[T.Secundário]              -0.0141      0.072     -0.196      0.844      -0.155       0.127\n",
            "C(educacao)[T.Superior completo]        0.0938      0.072      1.298      0.194      -0.048       0.235\n",
            "C(educacao)[T.Superior incompleto]     -0.0432      0.078     -0.555      0.579      -0.196       0.109\n",
            "C(estado_civil)[T.Separado]             0.3265      0.111      2.935      0.003       0.108       0.545\n",
            "C(estado_civil)[T.Solteiro]             0.2672      0.109      2.453      0.014       0.054       0.481\n",
            "C(estado_civil)[T.União]               -0.0343      0.025     -1.361      0.174      -0.084       0.015\n",
            "C(estado_civil)[T.Viúvo]                0.3689      0.116      3.191      0.001       0.142       0.596\n",
            "C(tipo_residencia)[T.Casa]             -0.0442      0.054     -0.815      0.415      -0.150       0.062\n",
            "C(tipo_residencia)[T.Com os pais]      -0.0258      0.060     -0.427      0.670      -0.144       0.093\n",
            "C(tipo_residencia)[T.Comunitário]      -0.1196      0.105     -1.135      0.256      -0.326       0.087\n",
            "C(tipo_residencia)[T.Estúdio]           0.0665      0.099      0.670      0.503      -0.128       0.261\n",
            "C(tipo_residencia)[T.Governamental]    -0.0571      0.066     -0.865      0.387      -0.186       0.072\n",
            "qtd_filhos                             -0.2658      0.108     -2.463      0.014      -0.477      -0.054\n",
            "idade                                   0.0053      0.001      6.624      0.000       0.004       0.007\n",
            "tempo_emprego                           0.0617      0.001     59.398      0.000       0.060       0.064\n",
            "qt_pessoas_residencia                   0.2926      0.108      2.716      0.007       0.081       0.504\n",
            "==============================================================================\n",
            "Omnibus:                        0.858   Durbin-Watson:                   2.023\n",
            "Prob(Omnibus):                  0.651   Jarque-Bera (JB):                0.839\n",
            "Skew:                           0.019   Prob(JB):                        0.657\n",
            "Kurtosis:                       3.012   Cond. No.                     2.18e+03\n",
            "==============================================================================\n",
            "\n",
            "Notes:\n",
            "[1] Standard Errors assume that the covariance matrix of the errors is correctly specified.\n",
            "[2] The condition number is large, 2.18e+03. This might indicate that there are\n",
            "strong multicollinearity or other numerical problems.\n"
          ]
        }
      ]
    },
    {
      "cell_type": "code",
      "source": [
        "# Verificando quais serão minhas caselas de referência:\n",
        "\n",
        "# Contagem de frequência das categorias\n",
        "frequency_counts = df.apply(lambda x: x.value_counts().idxmax())\n",
        "\n",
        "print(frequency_counts)"
      ],
      "metadata": {
        "colab": {
          "base_uri": "https://localhost:8080/"
        },
        "id": "USGNukzz2YhR",
        "outputId": "6897d15d-860a-4379-d831-6efa2d59ba3d"
      },
      "execution_count": 24,
      "outputs": [
        {
          "output_type": "stream",
          "name": "stdout",
          "text": [
            "Unnamed: 0                         0\n",
            "data_ref                  2015-01-01\n",
            "id_cliente                      9948\n",
            "sexo                               F\n",
            "posse_de_veiculo               False\n",
            "posse_de_imovel                 True\n",
            "qtd_filhos                         0\n",
            "tipo_renda               Assalariado\n",
            "educacao                  Secundário\n",
            "estado_civil                  Casado\n",
            "tipo_residencia                 Casa\n",
            "idade                             40\n",
            "tempo_emprego               4.216438\n",
            "qt_pessoas_residencia            2.0\n",
            "renda                        5402.44\n",
            "dtype: object\n"
          ]
        }
      ]
    },
    {
      "cell_type": "code",
      "source": [
        "# Suponha que 'sexo', 'tipo_renda', 'educacao', 'estado_civil' e 'tipo_residencia' sejam variáveis categóricas\n",
        "formula = 'np.log(renda) ~ posse_de_veiculo + posse_de_imovel + qtd_filhos + C(sexo, Treatment(reference=\"F\")) + C(tipo_renda, Treatment(reference=\"Assalariado\")) + C(educacao, Treatment(reference=\"Secundário\")) + C(estado_civil, Treatment(reference=\"Casado\")) + C(tipo_residencia, Treatment(reference=\"Casa\")) + idade + tempo_emprego + qt_pessoas_residencia'\n",
        "\n",
        "y, X = patsy.dmatrices(formula, data=df, return_type='dataframe')\n",
        "\n",
        "model = sm.OLS(y, X)\n",
        "results = model.fit()\n",
        "\n",
        "print(results.summary())"
      ],
      "metadata": {
        "colab": {
          "base_uri": "https://localhost:8080/"
        },
        "id": "Ii7BSirF1hFp",
        "outputId": "f349e3f5-e374-44c0-e3f1-5b545dd5e2a2"
      },
      "execution_count": 25,
      "outputs": [
        {
          "output_type": "stream",
          "name": "stdout",
          "text": [
            "                            OLS Regression Results                            \n",
            "==============================================================================\n",
            "Dep. Variable:          np.log(renda)   R-squared:                       0.357\n",
            "Model:                            OLS   Adj. R-squared:                  0.356\n",
            "Method:                 Least Squares   F-statistic:                     287.5\n",
            "Date:                Fri, 15 Dec 2023   Prob (F-statistic):               0.00\n",
            "Time:                        23:50:35   Log-Likelihood:                -13568.\n",
            "No. Observations:               12427   AIC:                         2.719e+04\n",
            "Df Residuals:                   12402   BIC:                         2.737e+04\n",
            "Df Model:                          24                                         \n",
            "Covariance Type:            nonrobust                                         \n",
            "=========================================================================================================================================\n",
            "                                                                            coef    std err          t      P>|t|      [0.025      0.975]\n",
            "-----------------------------------------------------------------------------------------------------------------------------------------\n",
            "Intercept                                                                 6.5264      0.219     29.853      0.000       6.098       6.955\n",
            "posse_de_veiculo[T.True]                                                  0.0441      0.014      3.119      0.002       0.016       0.072\n",
            "posse_de_imovel[T.True]                                                   0.0829      0.014      5.926      0.000       0.055       0.110\n",
            "C(sexo, Treatment(reference=\"F\"))[T.M]                                    0.7874      0.015     53.723      0.000       0.759       0.816\n",
            "C(tipo_renda, Treatment(reference=\"Assalariado\"))[T.Bolsista]             0.2209      0.241      0.916      0.360      -0.252       0.694\n",
            "C(tipo_renda, Treatment(reference=\"Assalariado\"))[T.Empresário]           0.1551      0.015     10.387      0.000       0.126       0.184\n",
            "C(tipo_renda, Treatment(reference=\"Assalariado\"))[T.Pensionista]         -0.3087      0.241     -1.280      0.201      -0.782       0.164\n",
            "C(tipo_renda, Treatment(reference=\"Assalariado\"))[T.Servidor público]     0.0576      0.022      2.591      0.010       0.014       0.101\n",
            "C(educacao, Treatment(reference=\"Secundário\"))[T.Primário]                0.0141      0.072      0.196      0.844      -0.127       0.155\n",
            "C(educacao, Treatment(reference=\"Secundário\"))[T.Pós graduação]           0.1212      0.142      0.853      0.394      -0.157       0.400\n",
            "C(educacao, Treatment(reference=\"Secundário\"))[T.Superior completo]       0.1079      0.014      7.763      0.000       0.081       0.135\n",
            "C(educacao, Treatment(reference=\"Secundário\"))[T.Superior incompleto]    -0.0290      0.032     -0.900      0.368      -0.092       0.034\n",
            "C(estado_civil, Treatment(reference=\"Casado\"))[T.Separado]                0.3265      0.111      2.935      0.003       0.108       0.545\n",
            "C(estado_civil, Treatment(reference=\"Casado\"))[T.Solteiro]                0.2672      0.109      2.453      0.014       0.054       0.481\n",
            "C(estado_civil, Treatment(reference=\"Casado\"))[T.União]                  -0.0343      0.025     -1.361      0.174      -0.084       0.015\n",
            "C(estado_civil, Treatment(reference=\"Casado\"))[T.Viúvo]                   0.3689      0.116      3.191      0.001       0.142       0.596\n",
            "C(tipo_residencia, Treatment(reference=\"Casa\"))[T.Aluguel]                0.0442      0.054      0.815      0.415      -0.062       0.150\n",
            "C(tipo_residencia, Treatment(reference=\"Casa\"))[T.Com os pais]            0.0184      0.029      0.625      0.532      -0.039       0.076\n",
            "C(tipo_residencia, Treatment(reference=\"Casa\"))[T.Comunitário]           -0.0754      0.091     -0.829      0.407      -0.254       0.103\n",
            "C(tipo_residencia, Treatment(reference=\"Casa\"))[T.Estúdio]                0.1107      0.084      1.319      0.187      -0.054       0.275\n",
            "C(tipo_residencia, Treatment(reference=\"Casa\"))[T.Governamental]         -0.0129      0.039     -0.331      0.741      -0.089       0.064\n",
            "qtd_filhos                                                               -0.2658      0.108     -2.463      0.014      -0.477      -0.054\n",
            "idade                                                                     0.0053      0.001      6.624      0.000       0.004       0.007\n",
            "tempo_emprego                                                             0.0617      0.001     59.398      0.000       0.060       0.064\n",
            "qt_pessoas_residencia                                                     0.2926      0.108      2.716      0.007       0.081       0.504\n",
            "==============================================================================\n",
            "Omnibus:                        0.858   Durbin-Watson:                   2.023\n",
            "Prob(Omnibus):                  0.651   Jarque-Bera (JB):                0.839\n",
            "Skew:                           0.019   Prob(JB):                        0.657\n",
            "Kurtosis:                       3.012   Cond. No.                     2.13e+03\n",
            "==============================================================================\n",
            "\n",
            "Notes:\n",
            "[1] Standard Errors assume that the covariance matrix of the errors is correctly specified.\n",
            "[2] The condition number is large, 2.13e+03. This might indicate that there are\n",
            "strong multicollinearity or other numerical problems.\n"
          ]
        }
      ]
    },
    {
      "cell_type": "code",
      "source": [
        "# Suponha que 'sexo', 'tipo_renda', 'educacao', 'estado_civil' e 'tipo_residencia' sejam variáveis categóricas\n",
        "formula = 'np.log(renda) ~ posse_de_veiculo + posse_de_imovel + qtd_filhos + C(sexo, Treatment(reference=\"F\")) + C(tipo_residencia, Treatment(reference=\"Casa\")) + idade + tempo_emprego + qt_pessoas_residencia'\n",
        "\n",
        "y, X = patsy.dmatrices(formula, data=df, return_type='dataframe')\n",
        "\n",
        "model = sm.OLS(y, X)\n",
        "results = model.fit()\n",
        "\n",
        "print(results.summary())"
      ],
      "metadata": {
        "colab": {
          "base_uri": "https://localhost:8080/"
        },
        "id": "oRfGcfm6221J",
        "outputId": "83151954-06f2-47cf-f9fa-d677fb788565"
      },
      "execution_count": 26,
      "outputs": [
        {
          "output_type": "stream",
          "name": "stdout",
          "text": [
            "                            OLS Regression Results                            \n",
            "==============================================================================\n",
            "Dep. Variable:          np.log(renda)   R-squared:                       0.347\n",
            "Model:                            OLS   Adj. R-squared:                  0.346\n",
            "Method:                 Least Squares   F-statistic:                     549.1\n",
            "Date:                Fri, 15 Dec 2023   Prob (F-statistic):               0.00\n",
            "Time:                        23:50:40   Log-Likelihood:                -13670.\n",
            "No. Observations:               12427   AIC:                         2.737e+04\n",
            "Df Residuals:                   12414   BIC:                         2.746e+04\n",
            "Df Model:                          12                                         \n",
            "Covariance Type:            nonrobust                                         \n",
            "====================================================================================================================================\n",
            "                                                                       coef    std err          t      P>|t|      [0.025      0.975]\n",
            "------------------------------------------------------------------------------------------------------------------------------------\n",
            "Intercept                                                            7.2354      0.044    163.190      0.000       7.149       7.322\n",
            "posse_de_veiculo[T.True]                                             0.0566      0.014      4.001      0.000       0.029       0.084\n",
            "posse_de_imovel[T.True]                                              0.0866      0.014      6.157      0.000       0.059       0.114\n",
            "C(sexo, Treatment(reference=\"F\"))[T.M]                               0.7676      0.015     52.408      0.000       0.739       0.796\n",
            "C(tipo_residencia, Treatment(reference=\"Casa\"))[T.Aluguel]           0.0326      0.055      0.597      0.550      -0.074       0.139\n",
            "C(tipo_residencia, Treatment(reference=\"Casa\"))[T.Com os pais]       0.0054      0.030      0.184      0.854      -0.053       0.063\n",
            "C(tipo_residencia, Treatment(reference=\"Casa\"))[T.Comunitário]      -0.0587      0.091     -0.643      0.520      -0.238       0.120\n",
            "C(tipo_residencia, Treatment(reference=\"Casa\"))[T.Estúdio]           0.1503      0.084      1.780      0.075      -0.015       0.316\n",
            "C(tipo_residencia, Treatment(reference=\"Casa\"))[T.Governamental]    -0.0192      0.039     -0.488      0.626      -0.096       0.058\n",
            "qtd_filhos                                                           0.0330      0.019      1.698      0.090      -0.005       0.071\n",
            "idade                                                                0.0050      0.001      6.384      0.000       0.003       0.007\n",
            "tempo_emprego                                                        0.0609      0.001     58.974      0.000       0.059       0.063\n",
            "qt_pessoas_residencia                                               -0.0086      0.016     -0.529      0.597      -0.041       0.023\n",
            "==============================================================================\n",
            "Omnibus:                        1.242   Durbin-Watson:                   2.026\n",
            "Prob(Omnibus):                  0.537   Jarque-Bera (JB):                1.213\n",
            "Skew:                           0.022   Prob(JB):                        0.545\n",
            "Kurtosis:                       3.021   Cond. No.                         596.\n",
            "==============================================================================\n",
            "\n",
            "Notes:\n",
            "[1] Standard Errors assume that the covariance matrix of the errors is correctly specified.\n"
          ]
        }
      ]
    },
    {
      "cell_type": "code",
      "source": [
        "# Suponha que 'sexo', 'tipo_renda', 'educacao', 'estado_civil' e 'tipo_residencia' sejam variáveis categóricas\n",
        "formula = 'np.log(renda) ~ posse_de_veiculo + posse_de_imovel + qtd_filhos + idade + tempo_emprego'\n",
        "\n",
        "y, X = patsy.dmatrices(formula, data=df, return_type='dataframe')\n",
        "\n",
        "model = sm.OLS(y, X)\n",
        "results = model.fit()\n",
        "\n",
        "print(results.summary())"
      ],
      "metadata": {
        "colab": {
          "base_uri": "https://localhost:8080/"
        },
        "id": "5D8P-ODf3unx",
        "outputId": "7bcf1b9d-ac67-4068-fe03-8582831eae99"
      },
      "execution_count": 29,
      "outputs": [
        {
          "output_type": "stream",
          "name": "stdout",
          "text": [
            "                            OLS Regression Results                            \n",
            "==============================================================================\n",
            "Dep. Variable:          np.log(renda)   R-squared:                       0.200\n",
            "Model:                            OLS   Adj. R-squared:                  0.200\n",
            "Method:                 Least Squares   F-statistic:                     621.1\n",
            "Date:                Fri, 15 Dec 2023   Prob (F-statistic):               0.00\n",
            "Time:                        23:56:23   Log-Likelihood:                -14930.\n",
            "No. Observations:               12427   AIC:                         2.987e+04\n",
            "Df Residuals:                   12421   BIC:                         2.992e+04\n",
            "Df Model:                           5                                         \n",
            "Covariance Type:            nonrobust                                         \n",
            "============================================================================================\n",
            "                               coef    std err          t      P>|t|      [0.025      0.975]\n",
            "--------------------------------------------------------------------------------------------\n",
            "Intercept                    7.5676      0.037    206.236      0.000       7.496       7.640\n",
            "posse_de_veiculo[T.True]     0.2967      0.015     20.132      0.000       0.268       0.326\n",
            "posse_de_imovel[T.True]      0.0578      0.015      3.789      0.000       0.028       0.088\n",
            "qtd_filhos                   0.0365      0.010      3.822      0.000       0.018       0.055\n",
            "idade                        0.0020      0.001      2.335      0.020       0.000       0.004\n",
            "tempo_emprego                0.0564      0.001     49.600      0.000       0.054       0.059\n",
            "==============================================================================\n",
            "Omnibus:                       26.991   Durbin-Watson:                   2.033\n",
            "Prob(Omnibus):                  0.000   Jarque-Bera (JB):               27.105\n",
            "Skew:                           0.114   Prob(JB):                     1.30e-06\n",
            "Kurtosis:                       3.019   Cond. No.                         219.\n",
            "==============================================================================\n",
            "\n",
            "Notes:\n",
            "[1] Standard Errors assume that the covariance matrix of the errors is correctly specified.\n"
          ]
        }
      ]
    },
    {
      "cell_type": "markdown",
      "source": [
        "Tanto o R² quanto o R² ajustado diminuiram, o que pode indicar que o modelo piorou."
      ],
      "metadata": {
        "id": "GSiS1KY_7Tjh"
      }
    }
  ],
  "metadata": {
    "kernelspec": {
      "display_name": "Python 3",
      "language": "python",
      "name": "python3"
    },
    "language_info": {
      "codemirror_mode": {
        "name": "ipython",
        "version": 3
      },
      "file_extension": ".py",
      "mimetype": "text/x-python",
      "name": "python",
      "nbconvert_exporter": "python",
      "pygments_lexer": "ipython3",
      "version": "3.8.5"
    },
    "colab": {
      "provenance": []
    }
  },
  "nbformat": 4,
  "nbformat_minor": 0
}