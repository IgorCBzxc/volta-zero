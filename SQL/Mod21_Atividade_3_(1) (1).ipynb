{
 "cells": [
  {
   "cell_type": "markdown",
   "metadata": {
    "id": "5x55SYcYdGqQ"
   },
   "source": [
    "![cabecalho_notebook.png](attachment:cabecalho_notebook.png)"
   ]
  },
  {
   "cell_type": "markdown",
   "metadata": {
    "id": "mebK2jA1dGqR"
   },
   "source": [
    "Módulo 21 <br> Professor: Lucas Serra"
   ]
  },
  {
   "cell_type": "markdown",
   "metadata": {
    "id": "Fvj_EBzDdGqS"
   },
   "source": [
    "# Módulo 21 - Atividade 3"
   ]
  },
  {
   "cell_type": "markdown",
   "metadata": {
    "id": "_kjVorysdGqS"
   },
   "source": [
    "![dvd-rental-sample-database-diagram.png](attachment:dvd-rental-sample-database-diagram.png)"
   ]
  },
  {
   "cell_type": "markdown",
   "metadata": {
    "id": "Y-vvp4wFdGqS"
   },
   "source": [
    "### Calcule a média por nome e sobrenome do ator da seguintes variáveis:\n",
    "- rental_duration\n",
    "- rental_rate\n",
    "- length\n",
    "- replacement_cost"
   ]
  },
  {
   "cell_type": "markdown",
   "metadata": {
    "id": "2l2JA_eQdGqS"
   },
   "source": [
    "### Calcule a soma de amount (preço total do aluguel) por nome, sobrenome e email do cliente (customer) e indique os 10 clientes que mais gastaram e os 10 que menos gastaram.\n"
   ]
  },
  {
   "cell_type": "markdown",
   "metadata": {
    "id": "GYggcnakdb4x"
   },
   "source": [
    "# Importando bibliotecas"
   ]
  },
  {
   "cell_type": "code",
   "execution_count": null,
   "metadata": {},
   "outputs": [
    {
     "name": "stdout",
     "output_type": "stream",
     "text": [
      "Collecting psycopg2-binary\n",
      "  Obtaining dependency information for psycopg2-binary from https://files.pythonhosted.org/packages/25/1f/7ae31759142999a8d06b3e250c1346c4abcdcada8fa884376775dc1de686/psycopg2_binary-2.9.9-cp311-cp311-win_amd64.whl.metadata\n",
      "  Downloading psycopg2_binary-2.9.9-cp311-cp311-win_amd64.whl.metadata (4.6 kB)\n",
      "Downloading psycopg2_binary-2.9.9-cp311-cp311-win_amd64.whl (1.2 MB)\n",
      "   ---------------------------------------- 0.0/1.2 MB ? eta -:--:--\n",
      "   ---------------------------------------- 0.0/1.2 MB ? eta -:--:--\n",
      "   - -------------------------------------- 0.0/1.2 MB 393.8 kB/s eta 0:00:03\n",
      "   ---- ----------------------------------- 0.1/1.2 MB 901.1 kB/s eta 0:00:02\n",
      "   -------- ------------------------------- 0.3/1.2 MB 1.3 MB/s eta 0:00:01\n",
      "   ---------------- ----------------------- 0.5/1.2 MB 2.2 MB/s eta 0:00:01\n",
      "   ----------------------------- ---------- 0.9/1.2 MB 3.2 MB/s eta 0:00:01\n",
      "   ---------------------------------------- 1.2/1.2 MB 3.7 MB/s eta 0:00:00\n",
      "Installing collected packages: psycopg2-binary\n",
      "Successfully installed psycopg2-binary-2.9.9\n",
      "Note: you may need to restart the kernel to use updated packages.\n"
     ]
    }
   ],
   "source": [
    "pip install psycopg2-binary "
   ]
  },
  {
   "cell_type": "code",
   "execution_count": null,
   "metadata": {
    "id": "UcKZBgvhdGqT"
   },
   "outputs": [],
   "source": [
    "import psycopg2 as pg2\n",
    "import pandas   as pd"
   ]
  },
  {
   "cell_type": "markdown",
   "metadata": {
    "id": "g5uHh-DkdnqJ"
   },
   "source": [
    "# Média por nome e sobrenome do ator das variáveis solicitadas:"
   ]
  },
  {
   "cell_type": "code",
   "execution_count": null,
   "metadata": {
    "colab": {
     "base_uri": "https://localhost:8080/",
     "height": 418
    },
    "id": "aJFww4SidGqT",
    "outputId": "1a9f9224-0293-4b30-d8db-1d35a5b10485"
   },
   "outputs": [
    {
     "data": {
      "text/html": [
       "<div>\n",
       "<style scoped>\n",
       "    .dataframe tbody tr th:only-of-type {\n",
       "        vertical-align: middle;\n",
       "    }\n",
       "\n",
       "    .dataframe tbody tr th {\n",
       "        vertical-align: top;\n",
       "    }\n",
       "\n",
       "    .dataframe thead th {\n",
       "        text-align: right;\n",
       "    }\n",
       "</style>\n",
       "<table border=\"1\" class=\"dataframe\">\n",
       "  <thead>\n",
       "    <tr style=\"text-align: right;\">\n",
       "      <th></th>\n",
       "      <th>first_name</th>\n",
       "      <th>last_name</th>\n",
       "      <th>avg_rental_duration</th>\n",
       "      <th>avg_rental_rate</th>\n",
       "      <th>avg_length</th>\n",
       "      <th>avg_replacement_cost</th>\n",
       "    </tr>\n",
       "  </thead>\n",
       "  <tbody>\n",
       "    <tr>\n",
       "      <th>0</th>\n",
       "      <td>Adam</td>\n",
       "      <td>Grant</td>\n",
       "      <td>5.28</td>\n",
       "      <td>2.77</td>\n",
       "      <td>122.39</td>\n",
       "      <td>22.93</td>\n",
       "    </tr>\n",
       "    <tr>\n",
       "      <th>1</th>\n",
       "      <td>Adam</td>\n",
       "      <td>Hopper</td>\n",
       "      <td>4.86</td>\n",
       "      <td>2.81</td>\n",
       "      <td>112.27</td>\n",
       "      <td>19.49</td>\n",
       "    </tr>\n",
       "    <tr>\n",
       "      <th>2</th>\n",
       "      <td>Al</td>\n",
       "      <td>Garland</td>\n",
       "      <td>5.12</td>\n",
       "      <td>2.76</td>\n",
       "      <td>106.38</td>\n",
       "      <td>19.87</td>\n",
       "    </tr>\n",
       "    <tr>\n",
       "      <th>3</th>\n",
       "      <td>Alan</td>\n",
       "      <td>Dreyfuss</td>\n",
       "      <td>5.04</td>\n",
       "      <td>2.84</td>\n",
       "      <td>111.30</td>\n",
       "      <td>19.36</td>\n",
       "    </tr>\n",
       "    <tr>\n",
       "      <th>4</th>\n",
       "      <td>Albert</td>\n",
       "      <td>Johansson</td>\n",
       "      <td>5.06</td>\n",
       "      <td>3.29</td>\n",
       "      <td>126.64</td>\n",
       "      <td>22.47</td>\n",
       "    </tr>\n",
       "    <tr>\n",
       "      <th>...</th>\n",
       "      <td>...</td>\n",
       "      <td>...</td>\n",
       "      <td>...</td>\n",
       "      <td>...</td>\n",
       "      <td>...</td>\n",
       "      <td>...</td>\n",
       "    </tr>\n",
       "    <tr>\n",
       "      <th>194</th>\n",
       "      <td>Will</td>\n",
       "      <td>Wilson</td>\n",
       "      <td>5.06</td>\n",
       "      <td>3.05</td>\n",
       "      <td>115.97</td>\n",
       "      <td>19.96</td>\n",
       "    </tr>\n",
       "    <tr>\n",
       "      <th>195</th>\n",
       "      <td>William</td>\n",
       "      <td>Hackman</td>\n",
       "      <td>4.78</td>\n",
       "      <td>3.14</td>\n",
       "      <td>129.07</td>\n",
       "      <td>20.06</td>\n",
       "    </tr>\n",
       "    <tr>\n",
       "      <th>196</th>\n",
       "      <td>Woody</td>\n",
       "      <td>Hoffman</td>\n",
       "      <td>4.58</td>\n",
       "      <td>2.99</td>\n",
       "      <td>120.84</td>\n",
       "      <td>19.70</td>\n",
       "    </tr>\n",
       "    <tr>\n",
       "      <th>197</th>\n",
       "      <td>Woody</td>\n",
       "      <td>Jolie</td>\n",
       "      <td>4.35</td>\n",
       "      <td>2.60</td>\n",
       "      <td>114.94</td>\n",
       "      <td>19.41</td>\n",
       "    </tr>\n",
       "    <tr>\n",
       "      <th>198</th>\n",
       "      <td>Zero</td>\n",
       "      <td>Cage</td>\n",
       "      <td>4.84</td>\n",
       "      <td>2.83</td>\n",
       "      <td>113.24</td>\n",
       "      <td>19.91</td>\n",
       "    </tr>\n",
       "  </tbody>\n",
       "</table>\n",
       "<p>199 rows × 6 columns</p>\n",
       "</div>"
      ],
      "text/plain": [
       "    first_name  last_name avg_rental_duration avg_rental_rate avg_length  \\\n",
       "0         Adam      Grant                5.28            2.77     122.39   \n",
       "1         Adam     Hopper                4.86            2.81     112.27   \n",
       "2           Al    Garland                5.12            2.76     106.38   \n",
       "3         Alan   Dreyfuss                5.04            2.84     111.30   \n",
       "4       Albert  Johansson                5.06            3.29     126.64   \n",
       "..         ...        ...                 ...             ...        ...   \n",
       "194       Will     Wilson                5.06            3.05     115.97   \n",
       "195    William    Hackman                4.78            3.14     129.07   \n",
       "196      Woody    Hoffman                4.58            2.99     120.84   \n",
       "197      Woody      Jolie                4.35            2.60     114.94   \n",
       "198       Zero       Cage                4.84            2.83     113.24   \n",
       "\n",
       "    avg_replacement_cost  \n",
       "0                  22.93  \n",
       "1                  19.49  \n",
       "2                  19.87  \n",
       "3                  19.36  \n",
       "4                  22.47  \n",
       "..                   ...  \n",
       "194                19.96  \n",
       "195                20.06  \n",
       "196                19.70  \n",
       "197                19.41  \n",
       "198                19.91  \n",
       "\n",
       "[199 rows x 6 columns]"
      ]
     },
     "execution_count": 4,
     "metadata": {},
     "output_type": "execute_result"
    }
   ],
   "source": [
    "conn = pg2.connect(host='localhost',\n",
    "                   port='5432',\n",
    "                   dbname='dvd_rental',\n",
    "                   user='postgres',\n",
    "                   password='senha123')\n",
    "cur = conn.cursor()\n",
    "\n",
    "query = '''\n",
    "        SELECT first_name,\n",
    "            last_name,\n",
    "            ROUND(AVG(rental_duration), 2) AS avg_rental_duration,\n",
    "            ROUND(AVG(rental_rate), 2) AS avg_rental_rate,\n",
    "            ROUND(AVG(length), 2) AS avg_length,\n",
    "            ROUND(AVG(replacement_cost), 2) AS avg_replacement_cost\n",
    "        FROM film\n",
    "        LEFT JOIN film_actor\n",
    "            ON film.film_id = film_actor.film_id\n",
    "        LEFT JOIN actor\n",
    "            ON film_actor.actor_id = actor.actor_id\n",
    "        WHERE first_name != 'na'\n",
    "        GROUP BY first_name, last_name\n",
    "        ORDER BY first_name, last_name;\n",
    "        '''\n",
    "cur.execute(query)\n",
    "conn.commit()\n",
    "\n",
    "data = cur.fetchall()\n",
    "\n",
    "cur.close()\n",
    "conn.close()\n",
    "\n",
    "col_names = [desc.name for desc in cur.description]\n",
    "pd.DataFrame(data=data, columns=col_names)"
   ]
  },
  {
   "cell_type": "markdown",
   "metadata": {
    "id": "QK4Zqtl6dGqT"
   },
   "source": [
    "# 2. Soma do amount (preço total do aluguel) por nome, sobrenome e email do cliente (customer) "
   ]
  },
  {
   "cell_type": "code",
   "execution_count": null,
   "metadata": {},
   "outputs": [],
   "source": [
    "conn = pg2.connect(host='localhost', \n",
    "                   port='5432', \n",
    "                   dbname='dvd_rental', \n",
    "                   user='postgres', \n",
    "                   password='senha123')\n",
    "cur = conn.cursor()\n",
    "\n",
    "query = '''\n",
    "        SELECT first_name, \n",
    "            last_name, \n",
    "            email, \n",
    "            SUM(amount) AS sum_amount\n",
    "        FROM payment\n",
    "        LEFT JOIN customer\n",
    "            ON payment.customer_id = customer.customer_id\n",
    "        GROUP BY first_name, last_name, email\n",
    "        ORDER BY sum_amount;\n",
    "        '''\n",
    "cur.execute(query)\n",
    "conn.commit()\n",
    "\n",
    "data = cur.fetchall()\n",
    "\n",
    "cur.close()\n",
    "conn.close()\n",
    "\n",
    "col_names = [desc.name for desc in cur.description]\n",
    "df = pd.DataFrame(data=data, columns=col_names)"
   ]
  },
  {
   "cell_type": "markdown",
   "metadata": {
    "id": "BkoEv3h3dGqU"
   },
   "source": [
    "# 10 Clientes que mais gastaram"
   ]
  },
  {
   "cell_type": "code",
   "execution_count": null,
   "metadata": {},
   "outputs": [
    {
     "data": {
      "text/html": [
       "<div>\n",
       "<style scoped>\n",
       "    .dataframe tbody tr th:only-of-type {\n",
       "        vertical-align: middle;\n",
       "    }\n",
       "\n",
       "    .dataframe tbody tr th {\n",
       "        vertical-align: top;\n",
       "    }\n",
       "\n",
       "    .dataframe thead th {\n",
       "        text-align: right;\n",
       "    }\n",
       "</style>\n",
       "<table border=\"1\" class=\"dataframe\">\n",
       "  <thead>\n",
       "    <tr style=\"text-align: right;\">\n",
       "      <th></th>\n",
       "      <th>first_name</th>\n",
       "      <th>last_name</th>\n",
       "      <th>email</th>\n",
       "      <th>sum_amount</th>\n",
       "    </tr>\n",
       "  </thead>\n",
       "  <tbody>\n",
       "    <tr>\n",
       "      <th>598</th>\n",
       "      <td>Eleanor</td>\n",
       "      <td>Hunt</td>\n",
       "      <td>eleanor.hunt@sakilacustomer.org</td>\n",
       "      <td>211.55</td>\n",
       "    </tr>\n",
       "    <tr>\n",
       "      <th>597</th>\n",
       "      <td>Karl</td>\n",
       "      <td>Seal</td>\n",
       "      <td>karl.seal@sakilacustomer.org</td>\n",
       "      <td>208.58</td>\n",
       "    </tr>\n",
       "    <tr>\n",
       "      <th>596</th>\n",
       "      <td>Marion</td>\n",
       "      <td>Snyder</td>\n",
       "      <td>marion.snyder@sakilacustomer.org</td>\n",
       "      <td>194.61</td>\n",
       "    </tr>\n",
       "    <tr>\n",
       "      <th>595</th>\n",
       "      <td>Rhonda</td>\n",
       "      <td>Kennedy</td>\n",
       "      <td>rhonda.kennedy@sakilacustomer.org</td>\n",
       "      <td>191.62</td>\n",
       "    </tr>\n",
       "    <tr>\n",
       "      <th>594</th>\n",
       "      <td>Clara</td>\n",
       "      <td>Shaw</td>\n",
       "      <td>clara.shaw@sakilacustomer.org</td>\n",
       "      <td>189.60</td>\n",
       "    </tr>\n",
       "    <tr>\n",
       "      <th>593</th>\n",
       "      <td>Tommy</td>\n",
       "      <td>Collazo</td>\n",
       "      <td>tommy.collazo@sakilacustomer.org</td>\n",
       "      <td>183.63</td>\n",
       "    </tr>\n",
       "    <tr>\n",
       "      <th>592</th>\n",
       "      <td>Ana</td>\n",
       "      <td>Bradley</td>\n",
       "      <td>ana.bradley@sakilacustomer.org</td>\n",
       "      <td>167.67</td>\n",
       "    </tr>\n",
       "    <tr>\n",
       "      <th>591</th>\n",
       "      <td>Curtis</td>\n",
       "      <td>Irby</td>\n",
       "      <td>curtis.irby@sakilacustomer.org</td>\n",
       "      <td>167.62</td>\n",
       "    </tr>\n",
       "    <tr>\n",
       "      <th>590</th>\n",
       "      <td>Marcia</td>\n",
       "      <td>Dean</td>\n",
       "      <td>marcia.dean@sakilacustomer.org</td>\n",
       "      <td>166.61</td>\n",
       "    </tr>\n",
       "    <tr>\n",
       "      <th>589</th>\n",
       "      <td>Mike</td>\n",
       "      <td>Way</td>\n",
       "      <td>mike.way@sakilacustomer.org</td>\n",
       "      <td>162.67</td>\n",
       "    </tr>\n",
       "  </tbody>\n",
       "</table>\n",
       "</div>"
      ],
      "text/plain": [
       "    first_name last_name                              email sum_amount\n",
       "598    Eleanor      Hunt    eleanor.hunt@sakilacustomer.org     211.55\n",
       "597       Karl      Seal       karl.seal@sakilacustomer.org     208.58\n",
       "596     Marion    Snyder   marion.snyder@sakilacustomer.org     194.61\n",
       "595     Rhonda   Kennedy  rhonda.kennedy@sakilacustomer.org     191.62\n",
       "594      Clara      Shaw      clara.shaw@sakilacustomer.org     189.60\n",
       "593      Tommy   Collazo   tommy.collazo@sakilacustomer.org     183.63\n",
       "592        Ana   Bradley     ana.bradley@sakilacustomer.org     167.67\n",
       "591     Curtis      Irby     curtis.irby@sakilacustomer.org     167.62\n",
       "590     Marcia      Dean     marcia.dean@sakilacustomer.org     166.61\n",
       "589       Mike       Way        mike.way@sakilacustomer.org     162.67"
      ]
     },
     "execution_count": 11,
     "metadata": {},
     "output_type": "execute_result"
    }
   ],
   "source": [
    "df.sort_values(by='sum_amount', ascending=False).head(n=10)"
   ]
  },
  {
   "cell_type": "markdown",
   "metadata": {},
   "source": [
    "# 10 Clientes que menos gastaram:"
   ]
  },
  {
   "cell_type": "code",
   "execution_count": null,
   "metadata": {},
   "outputs": [
    {
     "data": {
      "text/html": [
       "<div>\n",
       "<style scoped>\n",
       "    .dataframe tbody tr th:only-of-type {\n",
       "        vertical-align: middle;\n",
       "    }\n",
       "\n",
       "    .dataframe tbody tr th {\n",
       "        vertical-align: top;\n",
       "    }\n",
       "\n",
       "    .dataframe thead th {\n",
       "        text-align: right;\n",
       "    }\n",
       "</style>\n",
       "<table border=\"1\" class=\"dataframe\">\n",
       "  <thead>\n",
       "    <tr style=\"text-align: right;\">\n",
       "      <th></th>\n",
       "      <th>first_name</th>\n",
       "      <th>last_name</th>\n",
       "      <th>email</th>\n",
       "      <th>sum_amount</th>\n",
       "    </tr>\n",
       "  </thead>\n",
       "  <tbody>\n",
       "    <tr>\n",
       "      <th>0</th>\n",
       "      <td>Brian</td>\n",
       "      <td>Wyman</td>\n",
       "      <td>brian.wyman@sakilacustomer.org</td>\n",
       "      <td>27.93</td>\n",
       "    </tr>\n",
       "    <tr>\n",
       "      <th>1</th>\n",
       "      <td>Leona</td>\n",
       "      <td>Obrien</td>\n",
       "      <td>leona.obrien@sakilacustomer.org</td>\n",
       "      <td>32.90</td>\n",
       "    </tr>\n",
       "    <tr>\n",
       "      <th>2</th>\n",
       "      <td>Caroline</td>\n",
       "      <td>Bowman</td>\n",
       "      <td>caroline.bowman@sakilacustomer.org</td>\n",
       "      <td>37.87</td>\n",
       "    </tr>\n",
       "    <tr>\n",
       "      <th>3</th>\n",
       "      <td>Anthony</td>\n",
       "      <td>Schwab</td>\n",
       "      <td>anthony.schwab@sakilacustomer.org</td>\n",
       "      <td>47.85</td>\n",
       "    </tr>\n",
       "    <tr>\n",
       "      <th>4</th>\n",
       "      <td>Tiffany</td>\n",
       "      <td>Jordan</td>\n",
       "      <td>tiffany.jordan@sakilacustomer.org</td>\n",
       "      <td>49.88</td>\n",
       "    </tr>\n",
       "    <tr>\n",
       "      <th>5</th>\n",
       "      <td>Kirk</td>\n",
       "      <td>Stclair</td>\n",
       "      <td>kirk.stclair@sakilacustomer.org</td>\n",
       "      <td>50.83</td>\n",
       "    </tr>\n",
       "    <tr>\n",
       "      <th>6</th>\n",
       "      <td>Bobbie</td>\n",
       "      <td>Craig</td>\n",
       "      <td>bobbie.craig@sakilacustomer.org</td>\n",
       "      <td>52.81</td>\n",
       "    </tr>\n",
       "    <tr>\n",
       "      <th>7</th>\n",
       "      <td>Jo</td>\n",
       "      <td>Fowler</td>\n",
       "      <td>jo.fowler@sakilacustomer.org</td>\n",
       "      <td>54.85</td>\n",
       "    </tr>\n",
       "    <tr>\n",
       "      <th>8</th>\n",
       "      <td>Penny</td>\n",
       "      <td>Neal</td>\n",
       "      <td>penny.neal@sakilacustomer.org</td>\n",
       "      <td>56.84</td>\n",
       "    </tr>\n",
       "    <tr>\n",
       "      <th>9</th>\n",
       "      <td>Johnny</td>\n",
       "      <td>Turpin</td>\n",
       "      <td>johnny.turpin@sakilacustomer.org</td>\n",
       "      <td>57.81</td>\n",
       "    </tr>\n",
       "  </tbody>\n",
       "</table>\n",
       "</div>"
      ],
      "text/plain": [
       "  first_name last_name                               email sum_amount\n",
       "0      Brian     Wyman      brian.wyman@sakilacustomer.org      27.93\n",
       "1      Leona    Obrien     leona.obrien@sakilacustomer.org      32.90\n",
       "2   Caroline    Bowman  caroline.bowman@sakilacustomer.org      37.87\n",
       "3    Anthony    Schwab   anthony.schwab@sakilacustomer.org      47.85\n",
       "4    Tiffany    Jordan   tiffany.jordan@sakilacustomer.org      49.88\n",
       "5       Kirk   Stclair     kirk.stclair@sakilacustomer.org      50.83\n",
       "6     Bobbie     Craig     bobbie.craig@sakilacustomer.org      52.81\n",
       "7         Jo    Fowler        jo.fowler@sakilacustomer.org      54.85\n",
       "8      Penny      Neal       penny.neal@sakilacustomer.org      56.84\n",
       "9     Johnny    Turpin    johnny.turpin@sakilacustomer.org      57.81"
      ]
     },
     "execution_count": 13,
     "metadata": {},
     "output_type": "execute_result"
    }
   ],
   "source": [
    "df.sort_values(by='sum_amount', ascending=True).head(n=10)"
   ]
  }
 ],
 "metadata": {
  "colab": {
   "provenance": []
  },
  "kernelspec": {
   "display_name": "Python 3 (ipykernel)",
   "language": "python",
   "name": "python3"
  },
  "language_info": {
   "codemirror_mode": {
    "name": "ipython",
    "version": 3
   },
   "file_extension": ".py",
   "mimetype": "text/x-python",
   "name": "python",
   "nbconvert_exporter": "python",
   "pygments_lexer": "ipython3",
   "version": "3.11.5"
  },
  "varInspector": {
   "cols": {
    "lenName": 16,
    "lenType": 16,
    "lenVar": 40
   },
   "kernels_config": {
    "python": {
     "delete_cmd_postfix": "",
     "delete_cmd_prefix": "del ",
     "library": "var_list.py",
     "varRefreshCmd": "print(var_dic_list())"
    },
    "r": {
     "delete_cmd_postfix": ") ",
     "delete_cmd_prefix": "rm(",
     "library": "var_list.r",
     "varRefreshCmd": "cat(var_dic_list()) "
    }
   },
   "types_to_exclude": [
    "module",
    "function",
    "builtin_function_or_method",
    "instance",
    "_Feature"
   ],
   "window_display": false
  }
 },
 "nbformat": 4,
 "nbformat_minor": 1
}
