{
  "cells": [
    {
      "cell_type": "markdown",
      "metadata": {
        "id": "LgdpuiD6Prpp"
      },
      "source": [
        "# PCA - Tarefa 01:\n",
        "\n",
        "Vamos trabalhar com a base da demonstração feita em aula, mas vamos explorar um pouco melhor como é o desempenho da árvore variando o número de componentes principais."
      ]
    },
    {
      "cell_type": "code",
      "execution_count": 17,
      "metadata": {
        "id": "mORE7LNjPrpp"
      },
      "outputs": [],
      "source": [
        "import pandas as pd\n",
        "\n",
        "from sklearn.tree import DecisionTreeClassifier\n",
        "\n",
        "from sklearn.decomposition   import PCA\n",
        "from sklearn.metrics         import accuracy_score\n",
        "from sklearn.model_selection import cross_val_score\n",
        "from sklearn.model_selection import GridSearchCV\n",
        "from sklearn.impute import SimpleImputer"
      ]
    },
    {
      "cell_type": "code",
      "execution_count": 16,
      "metadata": {
        "id": "oIs9GIV7Prpq"
      },
      "outputs": [],
      "source": [
        "filename_features = \"Dados/features.txt\"\n",
        "filename_labels = \"Dados/activity_labels.txt\"\n",
        "\n",
        "filename_subtrain = \"Dados/subject_train.txt\"\n",
        "filename_xtrain = \"Dados/X_train.txt\"\n",
        "filename_ytrain = \"Dados/y_train.txt\"\n",
        "\n",
        "filename_subtest = \"Dados/subject_test.txt\"\n",
        "ffilename_xtest = \"Dados/X_test.txt\"\n",
        "filename_ytest = \"Dados/y_test.txt\"\n",
        "\n",
        "features = pd.read_csv(filename_features, header=None, names=['nome_var'], sep=\"#\").squeeze(\"columns\")\n",
        "labels = pd.read_csv(filename_labels, delim_whitespace=True, header=None, names=['cod_label', 'label'])\n",
        "\n",
        "subject_train = pd.read_csv(filename_subtrain, header=None, names=['subject_id']).squeeze(\"columns\")\n",
        "X_train = pd.read_csv(filename_xtrain, delim_whitespace=True, header=None, names=features.tolist())\n",
        "y_train = pd.read_csv(filename_ytrain, header=None, names=['cod_label'])\n",
        "\n",
        "subject_test = pd.read_csv(filename_subtest, header=None, names=['subject_id']).squeeze(\"columns\")\n",
        "X_test = pd.read_csv(ffilename_xtest, delim_whitespace=True, header=None, names=features.tolist())\n",
        "y_test = pd.read_csv(filename_ytest, header=None, names=['cod_label'])"
      ]
    },
    {
      "cell_type": "code",
      "source": [
        "imputer = SimpleImputer(strategy='mean')  # You can also use 'median' or 'most_frequent'\n",
        "X_train = imputer.fit_transform(X_train)\n",
        "X_test = imputer.transform(X_test)\n"
      ],
      "metadata": {
        "id": "jauRT1h7QsKE"
      },
      "execution_count": 19,
      "outputs": []
    },
    {
      "cell_type": "markdown",
      "metadata": {
        "id": "ThZrpTGQPrpq"
      },
      "source": [
        "## Árvore de decisão\n",
        "\n",
        "Rode uma árvore de decisão com todas as variáveis, utilizando o ```ccp_alpha=0.001```. Avalie a acurácia nas bases de treinamento e teste. Avalie o tempo de processamento."
      ]
    },
    {
      "cell_type": "code",
      "execution_count": 21,
      "metadata": {
        "id": "SGEtedi2Prpr",
        "outputId": "0bb50bea-45b1-4d33-ed02-0d7e4852e4c7",
        "colab": {
          "base_uri": "https://localhost:8080/"
        }
      },
      "outputs": [
        {
          "output_type": "stream",
          "name": "stdout",
          "text": [
            "Acurácia na base de treinamento: 0.9757889009793254\n",
            "Acurácia na base de teste: 0.8808958262639973\n",
            "\n",
            "CPU times: user 5.33 s, sys: 4.19 ms, total: 5.34 s\n",
            "Wall time: 5.34 s\n"
          ]
        }
      ],
      "source": [
        "%%time\n",
        "# Medindo o tempo de processamento\n",
        "# A partir deste ponto, será cronometrado o tempo necessário para executar o código abaixo.\n",
        "\n",
        "# Criação do classificador de árvore de decisão com ccp_alpha=0.001\n",
        "clf = DecisionTreeClassifier(ccp_alpha=0.001)\n",
        "\n",
        "# Treinamento do classificador utilizando os dados de treinamento\n",
        "clf.fit(X_train, y_train)\n",
        "\n",
        "# Avaliação da acurácia do classificador nos dados de treinamento\n",
        "print(f'Acurácia na base de treinamento: {clf.score(X_train, y_train)}')\n",
        "# Avaliação da acurácia do classificador nos dados de teste\n",
        "print(f'Acurácia na base de teste: {clf.score(X_test, y_test)}\\n')"
      ]
    },
    {
      "cell_type": "markdown",
      "metadata": {
        "id": "fR410JEsPrpr"
      },
      "source": [
        "## Árvore com PCA\n",
        "\n",
        "Faça uma análise de componemtes principais das variáveis originais. Utilize apenas uma componente. Faça uma árvore de decisão com esta componente como variável explicativa.\n",
        "\n",
        "- Avalie a acurácia nas bases de treinamento e teste\n",
        "- Avalie o tempo de processamento"
      ]
    },
    {
      "cell_type": "code",
      "execution_count": 22,
      "metadata": {
        "id": "JqqJxD_JPrps",
        "outputId": "af4317c8-e00b-4006-f94f-9f5ecac56f20",
        "colab": {
          "base_uri": "https://localhost:8080/"
        }
      },
      "outputs": [
        {
          "output_type": "stream",
          "name": "stdout",
          "text": [
            "Dimensões da base de treinamento: (7352, 1)\n",
            "Dimensões da base de teste: (2947, 1)\n",
            "Acurácia na base de treinamento: 0.499727965179543\n",
            "Acurácia na base de teste: 0.45707499151679676\n",
            "\n",
            "CPU times: user 637 ms, sys: 275 ms, total: 913 ms\n",
            "Wall time: 824 ms\n"
          ]
        }
      ],
      "source": [
        "%%time\n",
        "\n",
        "# Aplica o PCA com 1 componente aos dados de treinamento\n",
        "prcomp = PCA(n_components=1).fit(X_train)\n",
        "\n",
        "# Transforma os dados de treinamento e teste utilizando as componentes principais encontradas pelo PCA\n",
        "pc_treino = prcomp.transform(X_train)\n",
        "pc_teste  = prcomp.transform(X_test)\n",
        "\n",
        "# Imprime a forma dos dados de treinamento e teste após a transformação\n",
        "print(f'Dimensões da base de treinamento: {pc_treino.shape}')\n",
        "print(f'Dimensões da base de teste: {pc_teste.shape}')\n",
        "\n",
        "# Inicializa um classificador de árvore de decisão com ccp_alpha=0.001 e treina-o com os dados de treinamento transformados\n",
        "clf = DecisionTreeClassifier(ccp_alpha=0.001)\n",
        "clf.fit(pc_treino, y_train)\n",
        "\n",
        "# Calcula e imprime a acurácia do classificador nos dados de treinamento e teste\n",
        "print(f'Acurácia na base de treinamento: {clf.score(pc_treino, y_train)}')\n",
        "print(f'Acurácia na base de teste: {clf.score(pc_teste, y_test)}\\n')"
      ]
    },
    {
      "cell_type": "markdown",
      "metadata": {
        "id": "X5NC9UgTPrps"
      },
      "source": [
        "## Testando o número de componentes\n",
        "\n",
        "Com base no código acima, teste a árvore de classificação com pelo menos as seguintes possibilidades de quantidades de componentes: ```[1, 2, 5, 10, 50]```. Avalie para cada uma delas:\n",
        "\n",
        "- Acurácia nas bases de treino e teste\n",
        "- Tempo de processamento\n"
      ]
    },
    {
      "cell_type": "code",
      "execution_count": 23,
      "metadata": {
        "id": "Pb047UOlPrpt",
        "outputId": "4bfa5f14-3e3e-4f6a-cfb1-2335fcfd9d6e",
        "colab": {
          "base_uri": "https://localhost:8080/"
        }
      },
      "outputs": [
        {
          "output_type": "stream",
          "name": "stdout",
          "text": [
            "Dimensões da base de treinamento: (7352, 1)\n",
            "Dimensões da base de teste: (2947, 1)\n",
            "Acurácia na base de treinamento: 0.499727965179543\n",
            "Acurácia na base de teste: 0.45707499151679676\n",
            "\n",
            "Dimensões da base de treinamento: (7352, 2)\n",
            "Dimensões da base de teste: (2947, 2)\n",
            "Acurácia na base de treinamento: 0.6127584330794341\n",
            "Acurácia na base de teste: 0.5846623685103495\n",
            "\n",
            "Dimensões da base de treinamento: (7352, 5)\n",
            "Dimensões da base de teste: (2947, 5)\n",
            "Acurácia na base de treinamento: 0.8460282916213275\n",
            "Acurácia na base de teste: 0.7885985748218527\n",
            "\n",
            "Dimensões da base de treinamento: (7352, 10)\n",
            "Dimensões da base de teste: (2947, 10)\n",
            "Acurácia na base de treinamento: 0.8926822633297062\n",
            "Acurácia na base de teste: 0.8238887003732609\n",
            "\n",
            "Dimensões da base de treinamento: (7352, 50)\n",
            "Dimensões da base de teste: (2947, 50)\n",
            "Acurácia na base de treinamento: 0.9144450489662677\n",
            "Acurácia na base de teste: 0.8238887003732609\n",
            "\n",
            "CPU times: user 4.63 s, sys: 2.09 s, total: 6.72 s\n",
            "Wall time: 3.88 s\n"
          ]
        }
      ],
      "source": [
        "%%time\n",
        "\n",
        "componentes = [1, 2, 5, 10, 50]\n",
        "\n",
        "# Loop sobre os diferentes números de componentes\n",
        "for n in componentes:\n",
        "    # Executa o PCA com o número de componentes atual\n",
        "    prcomp = PCA(n_components=n).fit(X_train)\n",
        "\n",
        "    # Transforma os dados de treinamento e teste nos componentes principais\n",
        "    pc_treino = prcomp.transform(X_train)\n",
        "    pc_teste  = prcomp.transform(X_test)\n",
        "\n",
        "    # Imprime as dimensões dos dados transformados\n",
        "    print(f'Dimensões da base de treinamento: {pc_treino.shape}')\n",
        "    print(f'Dimensões da base de teste: {pc_teste.shape}')\n",
        "\n",
        "    # Cria e treina um classificador de árvore de decisão\n",
        "    clf = DecisionTreeClassifier(ccp_alpha=0.001)\n",
        "    clf.fit(pc_treino, y_train)\n",
        "\n",
        "    # Avalia a acurácia na base de treinamento e teste\n",
        "    print(f'Acurácia na base de treinamento: {clf.score(pc_treino, y_train)}')\n",
        "    print(f'Acurácia na base de teste: {clf.score(pc_teste, y_test)}\\n')"
      ]
    },
    {
      "cell_type": "markdown",
      "metadata": {
        "id": "4jrGGr6aPrpt"
      },
      "source": [
        "## Conclua\n",
        "\n",
        "- O que aconteceu com a acurácia?\n",
        "- O que aconteceu com o tempo de processamento?"
      ]
    },
    {
      "cell_type": "markdown",
      "metadata": {
        "id": "SrXD8a4pPrpt"
      },
      "source": [
        "\n",
        "Ao realizar a redução da dimensionalidade por meio da técnica de Análise de Componentes Principais (PCA), observamos uma mudança significativa, especialmente em relação ao tempo de processamento. A execução da árvore de decisão com o conjunto de dados completo, composto por todas as 561 variáveis, demandou aproximadamente 4,5 segundos, resultando em uma acurácia de 88% na base de teste. No entanto, ao empregar o PCA com apenas um componente, o tempo de processamento foi drasticamente reduzido para pouco menos de 300 ms, embora a acurácia na base de testes tenha sido de 45%.\n",
        "\n",
        "Ao incrementar o número de componentes, foi possível gradativamente aumentar a acurácia na base de testes. Com 50 componentes, alcançamos uma acurácia de até 83%, com um tempo de processamento de aproximadamente 2 segundos para executar as 5 combinações distintas de números de componentes. Dessa forma, podemos concluir que é viável obter uma acurácia semelhante à árvore com todas as variáveis do conjunto de dados, porém com uma redução no tempo de processamento em menos da metade. Vale destacar que os componentes são formados por meio da combinação linear das variáveis originais."
      ]
    },
    {
      "cell_type": "markdown",
      "metadata": {
        "id": "9roC4oswPrpt"
      },
      "source": [
        "---"
      ]
    }
  ],
  "metadata": {
    "kernelspec": {
      "display_name": "Python 3 (ipykernel)",
      "language": "python",
      "name": "python3"
    },
    "language_info": {
      "codemirror_mode": {
        "name": "ipython",
        "version": 3
      },
      "file_extension": ".py",
      "mimetype": "text/x-python",
      "name": "python",
      "nbconvert_exporter": "python",
      "pygments_lexer": "ipython3",
      "version": "3.9.13"
    },
    "toc": {
      "base_numbering": 1,
      "nav_menu": {},
      "number_sections": true,
      "sideBar": true,
      "skip_h1_title": true,
      "title_cell": "Índice",
      "title_sidebar": "Conteúdo",
      "toc_cell": false,
      "toc_position": {},
      "toc_section_display": true,
      "toc_window_display": false
    },
    "varInspector": {
      "cols": {
        "lenName": 16,
        "lenType": 16,
        "lenVar": 40
      },
      "kernels_config": {
        "python": {
          "delete_cmd_postfix": "",
          "delete_cmd_prefix": "del ",
          "library": "var_list.py",
          "varRefreshCmd": "print(var_dic_list())"
        },
        "r": {
          "delete_cmd_postfix": ") ",
          "delete_cmd_prefix": "rm(",
          "library": "var_list.r",
          "varRefreshCmd": "cat(var_dic_list()) "
        }
      },
      "types_to_exclude": [
        "module",
        "function",
        "builtin_function_or_method",
        "instance",
        "_Feature"
      ],
      "window_display": false
    },
    "colab": {
      "provenance": []
    }
  },
  "nbformat": 4,
  "nbformat_minor": 0
}