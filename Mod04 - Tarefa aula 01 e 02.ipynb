{
 "cells": [
  {
   "cell_type": "markdown",
   "metadata": {},
   "source": [
    "# Tarefa 01\n",
    "\n",
    "- Leia os enunciados com atenção\n",
    "- Saiba que pode haver mais de uma resposta correta\n",
    "- Insira novas células de código sempre que achar necessário\n",
    "- Em caso de dúvidas, procure os tutores\n",
    "- Divirta-se :)\n",
    "\n",
    "#### 1)  crie uma série do pandas a partir de uma lista com os dados abaixo:\n",
    "\n",
    "Em um estudo sobre alteração na tempreatura global, A NASA disponibiliza dados de diferenças de de temperatura média da superfície terrestre relativos às médias de temperatura entre 1951 e 1980. Os dados originais podem ser vistos no site da NASA/GISS, e estão dispostos a cada década na tabela abaixo.\n",
    "\n",
    "|ano|anomalia termica|\n",
    "|:-:|:----:|\n",
    "| 1900 | -0.08 |\n",
    "| 1920 | -0.27 |\n",
    "| 1940 | 0.12 |\n",
    "| 1960 | -0.03 |\n",
    "| 1980 | 0.26 |\n",
    "| 2000 | 0.40 |\n",
    "| 2020 | 1.02 |\n",
    "\n",
    "Crie uma séries do Pandas a partir de uma lista com esses dados."
   ]
  },
  {
   "cell_type": "code",
   "execution_count": 4,
   "metadata": {},
   "outputs": [
    {
     "data": {
      "text/plain": [
       "0   -0.08\n",
       "1   -0.27\n",
       "2    0.12\n",
       "3   -0.03\n",
       "4    0.26\n",
       "5    0.40\n",
       "6    1.02\n",
       "dtype: float64"
      ]
     },
     "execution_count": 4,
     "metadata": {},
     "output_type": "execute_result"
    }
   ],
   "source": [
    "import pandas as pd\n",
    "import numpy as np\n",
    "\n",
    "# Seu código aqui\n",
    "\n",
    "dados = [-0.08,-0.27,0.12,-0.03,0.26,0.40,1.02]\n",
    "anomalia_termica = pd.Series(dados)\n",
    "anomalia_termica\n"
   ]
  },
  {
   "cell_type": "markdown",
   "metadata": {},
   "source": [
    "#### 2) Coloque os anos nos índices conforme a tabela."
   ]
  },
  {
   "cell_type": "code",
   "execution_count": 6,
   "metadata": {},
   "outputs": [
    {
     "data": {
      "text/plain": [
       "1900   -0.08\n",
       "1920   -0.27\n",
       "1940    0.12\n",
       "1960   -0.03\n",
       "1980    0.26\n",
       "2000    0.40\n",
       "2020    1.02\n",
       "dtype: float64"
      ]
     },
     "execution_count": 6,
     "metadata": {},
     "output_type": "execute_result"
    }
   ],
   "source": [
    "\n",
    "# seu código aqui\n",
    "\n",
    "anomalia_termica = pd.Series([-0.08,-0.27,0.12,-0.03,0.26,0.40,1.02],\n",
    "                                 index=['1900', '1920', '1940', '1960', '1980', '2000', '2020'])\n",
    "\n",
    "anomalia_termica"
   ]
  },
  {
   "cell_type": "markdown",
   "metadata": {},
   "source": [
    "#### 3) A partir do dicionário abaixo, crie uma séries do Pandas:"
   ]
  },
  {
   "cell_type": "code",
   "execution_count": 9,
   "metadata": {},
   "outputs": [
    {
     "data": {
      "text/plain": [
       "1900   -0.80\n",
       "1920   -0.27\n",
       "1940    0.12\n",
       "1960   -0.03\n",
       "1980    0.26\n",
       "2000    0.40\n",
       "2020    1.02\n",
       "dtype: float64"
      ]
     },
     "execution_count": 9,
     "metadata": {},
     "output_type": "execute_result"
    }
   ],
   "source": [
    "dic_temperaturas = {1900: -.08, 1920: -.27, 1940: .12, 1960: -.03, 1980: .26, 2000: .40, 2020: 1.02}\n",
    "\n",
    "# seu código aqui\n",
    "\n",
    "TempDict = {'1900': -0.8,\n",
    "                   '1920': -0.27,\n",
    "                   '1940': 0.12,\n",
    "                   '1960': -0.03,\n",
    "                   '1980': 0.26,\n",
    "                   '2000': 0.40,\n",
    "                   '2020': 1.02}\n",
    "anomalia_termica = pd.Series(TempDict)\n",
    "anomalia_termica\n"
   ]
  },
  {
   "cell_type": "markdown",
   "metadata": {},
   "source": [
    "#### 4) Transforme o ndarray abaixo em um dataframe. \n",
    "O numpy é capaz de gerar arrays n-dimensionais com números pseudo-aleatórios de acordo com uma variedade de distribuições, como no exemplo abaixo. Transforme esse nd-array em um DataFrame."
   ]
  },
  {
   "cell_type": "code",
   "execution_count": 12,
   "metadata": {},
   "outputs": [
    {
     "name": "stdout",
     "output_type": "stream",
     "text": [
      "             1           2           3\n",
      "0    92.779639   98.108441   86.221592\n",
      "1   111.928486   97.450964   98.560516\n",
      "2    97.886973   92.631857   94.498989\n",
      "3   122.652177   86.804435   72.818217\n",
      "4    89.475866   99.812708   85.800458\n",
      "5   110.848753   96.485762  101.656331\n",
      "6    98.768105   99.384299  107.727665\n",
      "7   111.139886  108.589863  101.646340\n",
      "8   108.325007   91.294084   97.053083\n",
      "9   100.428044   79.986635  114.745491\n",
      "10   85.283231   90.413173   93.259001\n",
      "11  102.134031   89.991260   96.402660\n",
      "12   93.515898  124.099170   90.024296\n",
      "13  118.285395   92.739006   95.827704\n",
      "14  102.204665  106.994576   98.938416\n",
      "15  106.685024   88.126545  100.790418\n",
      "16   93.209301   86.992128   93.210606\n",
      "17  106.269522  110.595193  102.409918\n",
      "18  108.274868   94.334029   99.105331\n",
      "19   91.146803   94.300513   81.833547\n"
     ]
    }
   ],
   "source": [
    "arr = np.random.normal(100, 10, (20,3))\n",
    "\n",
    "# seu código aqui\n",
    "\n",
    "# Criando um DataFrame a partir do array\n",
    "df = pd.DataFrame(arr, columns=['1', '2', '3'])\n",
    "\n",
    "# Exibindo o DataFrame\n",
    "print(df)\n"
   ]
  },
  {
   "cell_type": "markdown",
   "metadata": {},
   "source": [
    "#### 5) Nomeie os índices das linhas com inteiros de 1 a 20, e as colunas com os nomes \"x1\", \"x2\", e \"x3\" respectivamente."
   ]
  },
  {
   "cell_type": "code",
   "execution_count": 13,
   "metadata": {},
   "outputs": [
    {
     "name": "stdout",
     "output_type": "stream",
     "text": [
      "            x1          x2          x3\n",
      "1    92.779639   98.108441   86.221592\n",
      "2   111.928486   97.450964   98.560516\n",
      "3    97.886973   92.631857   94.498989\n",
      "4   122.652177   86.804435   72.818217\n",
      "5    89.475866   99.812708   85.800458\n",
      "6   110.848753   96.485762  101.656331\n",
      "7    98.768105   99.384299  107.727665\n",
      "8   111.139886  108.589863  101.646340\n",
      "9   108.325007   91.294084   97.053083\n",
      "10  100.428044   79.986635  114.745491\n",
      "11   85.283231   90.413173   93.259001\n",
      "12  102.134031   89.991260   96.402660\n",
      "13   93.515898  124.099170   90.024296\n",
      "14  118.285395   92.739006   95.827704\n",
      "15  102.204665  106.994576   98.938416\n",
      "16  106.685024   88.126545  100.790418\n",
      "17   93.209301   86.992128   93.210606\n",
      "18  106.269522  110.595193  102.409918\n",
      "19  108.274868   94.334029   99.105331\n",
      "20   91.146803   94.300513   81.833547\n"
     ]
    }
   ],
   "source": [
    "#seu código aqui\n",
    "\n",
    "# Renomeando as colunas\n",
    "df = df.rename(columns={'1': 'x1', '2': 'x2', '3': 'x3'})\n",
    "\n",
    "# Definindo o índice de 1 a 20\n",
    "df.index = range(1, 21)\n",
    "\n",
    "# Exibindo o DataFrame final\n",
    "print(df)\n",
    "\n"
   ]
  },
  {
   "cell_type": "markdown",
   "metadata": {},
   "source": [
    "#### 6) No DataFrame do exercício 5, crie uma nova coluna como sendo a média das três colunas, e dê a ela o nome de \"media\" (não recomendo colocar acentos em nomes de variáveis)."
   ]
  },
  {
   "cell_type": "code",
   "execution_count": 14,
   "metadata": {},
   "outputs": [
    {
     "name": "stdout",
     "output_type": "stream",
     "text": [
      "            x1          x2          x3       media\n",
      "1    92.779639   98.108441   86.221592   92.369891\n",
      "2   111.928486   97.450964   98.560516  102.646655\n",
      "3    97.886973   92.631857   94.498989   95.005940\n",
      "4   122.652177   86.804435   72.818217   94.091609\n",
      "5    89.475866   99.812708   85.800458   91.696344\n",
      "6   110.848753   96.485762  101.656331  102.996949\n",
      "7    98.768105   99.384299  107.727665  101.960023\n",
      "8   111.139886  108.589863  101.646340  107.125363\n",
      "9   108.325007   91.294084   97.053083   98.890724\n",
      "10  100.428044   79.986635  114.745491   98.386724\n",
      "11   85.283231   90.413173   93.259001   89.651802\n",
      "12  102.134031   89.991260   96.402660   96.175984\n",
      "13   93.515898  124.099170   90.024296  102.546455\n",
      "14  118.285395   92.739006   95.827704  102.284035\n",
      "15  102.204665  106.994576   98.938416  102.712553\n",
      "16  106.685024   88.126545  100.790418   98.533996\n",
      "17   93.209301   86.992128   93.210606   91.137345\n",
      "18  106.269522  110.595193  102.409918  106.424878\n",
      "19  108.274868   94.334029   99.105331  100.571409\n",
      "20   91.146803   94.300513   81.833547   89.093621\n"
     ]
    }
   ],
   "source": [
    "# seu código aqui\n",
    "\n",
    "df['media'] = df[['x1', 'x2', 'x3']].mean(axis=1)\n",
    "\n",
    "print(df)"
   ]
  },
  {
   "cell_type": "markdown",
   "metadata": {},
   "source": [
    "#### 7) No DataFrame do exercício 6, crie uma nova coluna chamada \"log_med\", contendo o logaritmo natural da média calculada no exercício 6 <br>"
   ]
  },
  {
   "cell_type": "code",
   "execution_count": 15,
   "metadata": {},
   "outputs": [
    {
     "name": "stdout",
     "output_type": "stream",
     "text": [
      "            x1          x2          x3       media   log_med\n",
      "1    92.779639   98.108441   86.221592   92.369891  4.525801\n",
      "2   111.928486   97.450964   98.560516  102.646655  4.631293\n",
      "3    97.886973   92.631857   94.498989   95.005940  4.553939\n",
      "4   122.652177   86.804435   72.818217   94.091609  4.544269\n",
      "5    89.475866   99.812708   85.800458   91.696344  4.518483\n",
      "6   110.848753   96.485762  101.656331  102.996949  4.634699\n",
      "7    98.768105   99.384299  107.727665  101.960023  4.624581\n",
      "8   111.139886  108.589863  101.646340  107.125363  4.674000\n",
      "9   108.325007   91.294084   97.053083   98.890724  4.594015\n",
      "10  100.428044   79.986635  114.745491   98.386724  4.588906\n",
      "11   85.283231   90.413173   93.259001   89.651802  4.495933\n",
      "12  102.134031   89.991260   96.402660   96.175984  4.566180\n",
      "13   93.515898  124.099170   90.024296  102.546455  4.630316\n",
      "14  118.285395   92.739006   95.827704  102.284035  4.627754\n",
      "15  102.204665  106.994576   98.938416  102.712553  4.631934\n",
      "16  106.685024   88.126545  100.790418   98.533996  4.590402\n",
      "17   93.209301   86.992128   93.210606   91.137345  4.512368\n",
      "18  106.269522  110.595193  102.409918  106.424878  4.667439\n",
      "19  108.274868   94.334029   99.105331  100.571409  4.610868\n",
      "20   91.146803   94.300513   81.833547   89.093621  4.489688\n"
     ]
    }
   ],
   "source": [
    "# seu código aqui\n",
    "\n",
    "df['log_med'] = np.log(df['media'])\n",
    "\n",
    "# Exibindo o DataFrame final\n",
    "print(df)"
   ]
  }
 ],
 "metadata": {
  "kernelspec": {
   "display_name": "Python 3 (ipykernel)",
   "language": "python",
   "name": "python3"
  },
  "language_info": {
   "codemirror_mode": {
    "name": "ipython",
    "version": 3
   },
   "file_extension": ".py",
   "mimetype": "text/x-python",
   "name": "python",
   "nbconvert_exporter": "python",
   "pygments_lexer": "ipython3",
   "version": "3.11.5"
  }
 },
 "nbformat": 4,
 "nbformat_minor": 4
}
